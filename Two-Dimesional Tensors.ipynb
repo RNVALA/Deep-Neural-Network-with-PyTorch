{
 "cells": [
  {
   "cell_type": "markdown",
   "id": "5ace3714",
   "metadata": {},
   "source": [
    "<h3> Contents</h3>\n",
    "- Types and shape\n",
    "- Indexing and slicing\n",
    "- Tensor Operation"
   ]
  },
  {
   "cell_type": "code",
   "execution_count": 1,
   "id": "ec41bffe",
   "metadata": {},
   "outputs": [],
   "source": [
    "import numpy as np\n",
    "import matplotlib.pyplot as plt\n",
    "import torch\n",
    "import pandas as pd"
   ]
  },
  {
   "cell_type": "markdown",
   "id": "ddb859a2",
   "metadata": {},
   "source": [
    "### Types and shape\n"
   ]
  },
  {
   "cell_type": "code",
   "execution_count": 2,
   "id": "5c1f0f7a",
   "metadata": {},
   "outputs": [
    {
     "name": "stdout",
     "output_type": "stream",
     "text": [
      "The New 2D tensor:  [[11, 12, 13], [21, 22, 23], [31, 32, 33]]\n"
     ]
    }
   ],
   "source": [
    "twoD_list=[[11,12,13],[21,22,23],[31,32,33]]\n",
    "twoD_tensor=torch.tensor(twoD_list)\n",
    "print('The New 2D tensor: ',twoD_list)"
   ]
  },
  {
   "cell_type": "code",
   "execution_count": 3,
   "id": "c2db9f28",
   "metadata": {},
   "outputs": [
    {
     "name": "stdout",
     "output_type": "stream",
     "text": [
      "The dimension of twoD_tensor:  2\n",
      "The shape of twoD_tensor:  torch.Size([3, 3])\n",
      "The shape of twoD_tensor:  torch.Size([3, 3])\n",
      "The number of elements in twoD_tensor:  9\n"
     ]
    }
   ],
   "source": [
    "#now let's # Try tensor_obj.ndimension(), tensor_obj.shape, tensor_obj.size()\n",
    "\n",
    "print(\"The dimension of twoD_tensor: \", twoD_tensor.ndimension())\n",
    "print(\"The shape of twoD_tensor: \", twoD_tensor.shape)\n",
    "print(\"The shape of twoD_tensor: \", twoD_tensor.size())\n",
    "print(\"The number of elements in twoD_tensor: \", twoD_tensor.numel())"
   ]
  },
  {
   "cell_type": "code",
   "execution_count": 4,
   "id": "012df7ac",
   "metadata": {},
   "outputs": [
    {
     "name": "stdout",
     "output_type": "stream",
     "text": [
      "Tensor -> Numpy Array:\n",
      "The tensor after converting: [[11 12 13]\n",
      " [21 22 23]\n",
      " [31 32 33]]\n",
      "Type after converting:  int64\n",
      "==================================================================\n",
      "Numpy Array => Tensor:\n",
      "The tensor after converting tensor([[11, 12, 13],\n",
      "        [21, 22, 23],\n",
      "        [31, 32, 33]])\n",
      "Type after converting torch.int64\n"
     ]
    }
   ],
   "source": [
    "#convert tensor to numpy array; Convert numpy array to tensor\n",
    "twoD_numpy=twoD_tensor.numpy()\n",
    "print('Tensor -> Numpy Array:')\n",
    "print('The tensor after converting:',twoD_numpy)\n",
    "print('Type after converting: ',twoD_numpy.dtype)\n",
    "print('==================================================================')\n",
    "new_twoD_tensor=torch.from_numpy(twoD_numpy)\n",
    "print('Numpy Array => Tensor:')\n",
    "print('The tensor after converting',new_twoD_tensor)\n",
    "print('Type after converting',new_twoD_tensor.dtype)"
   ]
  },
  {
   "cell_type": "code",
   "execution_count": 5,
   "id": "f012fab2",
   "metadata": {},
   "outputs": [
    {
     "name": "stdout",
     "output_type": "stream",
     "text": [
      "pandas Dataframe to numpy [[ 11  12]\n",
      " [ 21  22]\n",
      " [ 31 312]]\n",
      "Type BEFORE converting int64\n",
      "=========================================================\n",
      "Tensor After converting tensor([[ 11,  12],\n",
      "        [ 21,  22],\n",
      "        [ 31, 312]])\n",
      "Type AFTER converting torch.int64\n"
     ]
    }
   ],
   "source": [
    "df=pd.DataFrame({'a':[11,21,31],'b':[12,22,312]})\n",
    "print('pandas Dataframe to numpy',df.values)\n",
    "print('Type BEFORE converting',df.values.dtype)\n",
    "print('=========================================================')\n",
    "new_tensor=torch.from_numpy(df.values)\n",
    "print('Tensor After converting',new_tensor)\n",
    "print('Type AFTER converting',new_tensor.dtype)"
   ]
  },
  {
   "cell_type": "markdown",
   "id": "5b386145",
   "metadata": {},
   "source": [
    "### Indexing and Slicing\n",
    "- You can use rectangular brackets to access the different elements of the tensor. The correspondence between the rectangular brackets and the list  and the rectangular representation is shown in the following figure for a 3*3 tensor:"
   ]
  },
  {
   "cell_type": "markdown",
   "id": "e605593f",
   "metadata": {},
   "source": [
    "<img src=\"https://s3-api.us-geo.objectstorage.softlayer.net/cf-courses-data/CognitiveClass/DL0110EN/notebook_images%20/chapter%201/1.2index1.png\" width=\"500\" alt=\"Matrix Structure Introduce\">\n"
   ]
  },
  {
   "cell_type": "markdown",
   "id": "0635ed37",
   "metadata": {},
   "source": [
    "You can access the 2nd-row 3rd-column as shown in the following figure:\n",
    "<img src=\"https://s3-api.us-geo.objectstorage.softlayer.net/cf-courses-data/CognitiveClass/DL0110EN/notebook_images%20/chapter%201/1.2index.png\" width=\"500\" alt=\"Example of Matrix Index\">\n"
   ]
  },
  {
   "cell_type": "code",
   "execution_count": 6,
   "id": "69b852a9",
   "metadata": {},
   "outputs": [
    {
     "name": "stdout",
     "output_type": "stream",
     "text": [
      "value on the 2nd row third column is  23\n",
      "vallue on the 3rd row 2d column is 33\n"
     ]
    }
   ],
   "source": [
    "#use tensor_obj[row,column] and tensor obj[row][column] to access certain position\n",
    "tensor_example=torch.tensor([[11,12,13],[21,22,23],[31,32,33]])\n",
    "print('value on the 2nd row third column is ',tensor_example[1,2].item())\n",
    "print('vallue on the 3rd row 2d column is',tensor_example[2][2].item())"
   ]
  },
  {
   "cell_type": "code",
   "execution_count": 9,
   "id": "7d2fe0b7",
   "metadata": {},
   "outputs": [
    {
     "name": "stdout",
     "output_type": "stream",
     "text": [
      "value of 1-st eow first two column tensor([11, 12])\n",
      "value of 1-st eow first two column tensor([11, 12])\n"
     ]
    }
   ],
   "source": [
    "#use tensor_obj[begin_row_number:end_row_number,begin_column number:end_column_number]\n",
    "#and tensor_obj[row][begin_column_no:end:column no] to do slicing\n",
    "tensor_example=torch.tensor([[11,12,13],[21,22,23],[31,32,33]])\n",
    "print('value of 1-st eow first two column',tensor_example[0,0:2])\n",
    "print('value of 1-st eow first two column',tensor_example[0][0:2])"
   ]
  },
  {
   "cell_type": "code",
   "execution_count": 16,
   "id": "543d8cf8",
   "metadata": {},
   "outputs": [
    {
     "name": "stdout",
     "output_type": "stream",
     "text": [
      "1. Slicing step on tensor_example \n",
      "Result after tensor_example[1:3]: tensor([[21, 22, 23],\n",
      "        [31, 32, 33]])\n",
      "Dimension after tensor_example[1:3]: 2\n",
      "============================================================================\n",
      "2.Pick an index oon sliced_tensor_example: \n",
      "Result after sliced_tensor_example[1]: tensor([31, 32, 33])\n",
      "Dimension after tensor_example[1]: 1\n",
      "================================================\n",
      "3. Combine these step together:\n",
      "Result:  tensor([31, 32, 33])\n",
      "Dimension:  1\n"
     ]
    }
   ],
   "source": [
    "#Give an idea on tensor_obj[number:number][number]\n",
    "tensor_example=torch.tensor([[11,12,13],[21,22,23],[31,32,33]])\n",
    "sliced_tensor_example=tensor_example[1:3]\n",
    "print('1. Slicing step on tensor_example ')\n",
    "print('Result after tensor_example[1:3]:',sliced_tensor_example)\n",
    "print('Dimension after tensor_example[1:3]:',sliced_tensor_example.ndimension())\n",
    "print('============================================================================')\n",
    "print('2.Pick an index oon sliced_tensor_example: ')\n",
    "print('Result after sliced_tensor_example[1]:',sliced_tensor_example[1])\n",
    "print('Dimension after tensor_example[1]:',sliced_tensor_example[1].ndimension())\n",
    "print(\"================================================\")\n",
    "print(\"3. Combine these step together:\")\n",
    "print(\"Result: \", tensor_example[1:3][1])\n",
    "print(\"Dimension: \", tensor_example[1:3][1].ndimension())"
   ]
  },
  {
   "cell_type": "markdown",
   "id": "924ab1cb",
   "metadata": {},
   "source": [
    "### Tensor Operations\n",
    "<b> we can also do some calculations on 2D tensors.</b>\n",
    "- Tensor adddition\n",
    "<img src=\"https://s3-api.us-geo.objectstorage.softlayer.net/cf-courses-data/CognitiveClass/DL0110EN/notebook_images%20/chapter%201/1.2add.png\" width=\"500\" alt=\"Tensor Addition in 2D\">\n"
   ]
  },
  {
   "cell_type": "code",
   "execution_count": 17,
   "id": "290b2bd7",
   "metadata": {},
   "outputs": [
    {
     "name": "stdout",
     "output_type": "stream",
     "text": [
      "The result of X+Y: tensor([[3, 1],\n",
      "        [1, 3]])\n"
     ]
    }
   ],
   "source": [
    "x=torch.tensor([[1,0],[0,1]])\n",
    "Y=torch.tensor([[2,1],[1,2]])\n",
    "x_plus_y=x+Y\n",
    "print('The result of X+Y:',x_plus_y)\n"
   ]
  },
  {
   "cell_type": "markdown",
   "id": "8a41a911",
   "metadata": {},
   "source": [
    "### Scalar Multiplication\n",
    "- Multiplying a tensor by a scalar is identical to multiplying a matrix by a scalar. If you multily the matrix Y by the scalar 2, you simply multiply every element in the matrix by 2\n",
    "\n",
    "<img src=\"https://s3-api.us-geo.objectstorage.softlayer.net/cf-courses-data/CognitiveClass/DL0110EN/notebook_images%20/chapter%201/1.2scaller_mult.png\" width=\"500\" alt=\"The product of tensor and scalar\" >\n"
   ]
  },
  {
   "cell_type": "code",
   "execution_count": 18,
   "id": "446b2592",
   "metadata": {},
   "outputs": [
    {
     "name": "stdout",
     "output_type": "stream",
     "text": [
      "The result of 2Y:  tensor([[4, 2],\n",
      "        [2, 4]])\n"
     ]
    }
   ],
   "source": [
    "#Calculate 2*[[2,1],[1,2]]\n",
    "Y=torch.tensor([[2,1],[1,2]])\n",
    "two_Y=2*Y\n",
    "print('The result of 2Y: ',two_Y)"
   ]
  },
  {
   "cell_type": "markdown",
   "id": "990bc11f",
   "metadata": {},
   "source": [
    "### Element-wise product/Hadamard product\n",
    "- Multiplication of two tensors corresponds to an element-wise product or Hadamard product. Consider matrix the X and Y with the same size. The Hadamard product corresponds to multiplying each of the elements at the same position."
   ]
  },
  {
   "cell_type": "code",
   "execution_count": 19,
   "id": "19e2dc3d",
   "metadata": {},
   "outputs": [
    {
     "name": "stdout",
     "output_type": "stream",
     "text": [
      "The result of X * Y:  tensor([[2, 0],\n",
      "        [0, 2]])\n"
     ]
    }
   ],
   "source": [
    "X=torch.tensor([[1,0],[0,1]])\n",
    "Y=torch.tensor([[2,1],[1,2]])\n",
    "X_times_Y=X*Y\n",
    "print('The result of X * Y: ',X_times_Y)"
   ]
  },
  {
   "cell_type": "markdown",
   "id": "fa23dcad",
   "metadata": {},
   "source": [
    "### Matrix Multiplication\n",
    "- In multiplication of two matrices orders matters. This means if x*y is valid, it does not mean y*x is valid. The number of columns of the matrix on the left side of the multiplication sign must equal to the number of rows of the matrix on the right side.\n",
    "- we use torch.mm() for calculation the multiplication between tensors with different sizes.\n"
   ]
  },
  {
   "cell_type": "code",
   "execution_count": 20,
   "id": "6082838f",
   "metadata": {},
   "outputs": [
    {
     "name": "stdout",
     "output_type": "stream",
     "text": [
      "The result of A*B:  tensor([[0, 2],\n",
      "        [0, 2]])\n"
     ]
    }
   ],
   "source": [
    "A=torch.tensor([[0,1,1],[1,0,1]])\n",
    "B=torch.tensor([[1,1],[1,1],[-1,1]])\n",
    "A_times_B=torch.mm(A,B)\n",
    "print('The result of A*B: ',A_times_B)"
   ]
  },
  {
   "cell_type": "code",
   "execution_count": 21,
   "id": "3081b44d",
   "metadata": {},
   "outputs": [
    {
     "name": "stdout",
     "output_type": "stream",
     "text": [
      "The result of X * Y:  tensor([[2, 1, 2],\n",
      "        [3, 0, 4]])\n"
     ]
    }
   ],
   "source": [
    "X = torch.tensor([[0, 1], [1, 2]])\n",
    "Y = torch.tensor([[-1, -2, 0], [2, 1, 2]])\n",
    "X_times_Y = torch.mm(X, Y)\n",
    "print(\"The result of X * Y: \", X_times_Y)"
   ]
  },
  {
   "cell_type": "code",
   "execution_count": null,
   "id": "496a9b1f",
   "metadata": {},
   "outputs": [],
   "source": []
  }
 ],
 "metadata": {
  "kernelspec": {
   "display_name": "Python 3 (ipykernel)",
   "language": "python",
   "name": "python3"
  },
  "language_info": {
   "codemirror_mode": {
    "name": "ipython",
    "version": 3
   },
   "file_extension": ".py",
   "mimetype": "text/x-python",
   "name": "python",
   "nbconvert_exporter": "python",
   "pygments_lexer": "ipython3",
   "version": "3.9.12"
  }
 },
 "nbformat": 4,
 "nbformat_minor": 5
}
