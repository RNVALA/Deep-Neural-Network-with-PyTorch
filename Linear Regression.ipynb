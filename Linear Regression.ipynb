{
 "cells": [
  {
   "cell_type": "markdown",
   "id": "24bd1259",
   "metadata": {},
   "source": [
    "## Linear Regression\n",
    "- It is a method to help us to understand the relationship between two variables: The predictor(independent) variable x sometime called feature, the target variable(dependent) y\n",
    "- IN pytorch, we call prediction step the forward step"
   ]
  },
  {
   "cell_type": "code",
   "execution_count": 1,
   "id": "4cb9bf85",
   "metadata": {},
   "outputs": [],
   "source": [
    "import torch"
   ]
  },
  {
   "cell_type": "code",
   "execution_count": 2,
   "id": "ebbb072f",
   "metadata": {},
   "outputs": [],
   "source": [
    "#Define w=2 and b=-1 for y=wx+b\n",
    "w=torch.tensor(2.0,requires_grad=True)\n",
    "b=torch.tensor(-1.0,requires_grad=True)"
   ]
  },
  {
   "cell_type": "code",
   "execution_count": 3,
   "id": "97ba14f2",
   "metadata": {},
   "outputs": [],
   "source": [
    "#Then define the function forward(x,w,b)makes the prediction\n",
    "def forward(x):\n",
    "    yhat=w*x+b\n",
    "    return yhat"
   ]
  },
  {
   "cell_type": "code",
   "execution_count": 4,
   "id": "0127d9a3",
   "metadata": {},
   "outputs": [
    {
     "name": "stdout",
     "output_type": "stream",
     "text": [
      "The prediction:  tensor([[1.]], grad_fn=<AddBackward0>)\n"
     ]
    }
   ],
   "source": [
    "#predict y=2x-1 at x=1\n",
    "x=torch.tensor([[1.0]])\n",
    "yhat=forward(x)\n",
    "print('The prediction: ',yhat)"
   ]
  },
  {
   "cell_type": "code",
   "execution_count": 5,
   "id": "0f45098a",
   "metadata": {},
   "outputs": [
    {
     "name": "stdout",
     "output_type": "stream",
     "text": [
      "The shape of x:  torch.Size([2, 1])\n"
     ]
    }
   ],
   "source": [
    "# Create x Tensor and check the shape of x tensor\n",
    "\n",
    "x = torch.tensor([[1.0], [2.0]])\n",
    "print(\"The shape of x: \", x.shape)"
   ]
  },
  {
   "cell_type": "code",
   "execution_count": 6,
   "id": "3d0294c6",
   "metadata": {},
   "outputs": [
    {
     "name": "stdout",
     "output_type": "stream",
     "text": [
      "The prediction:  tensor([[1.],\n",
      "        [3.]], grad_fn=<AddBackward0>)\n"
     ]
    }
   ],
   "source": [
    "# Make the prediction of y = 2x - 1 at x = [1, 2]\n",
    "\n",
    "yhat = forward(x)\n",
    "print(\"The prediction: \", yhat)"
   ]
  },
  {
   "cell_type": "markdown",
   "id": "1cef8450",
   "metadata": {},
   "source": [
    "## Class Linear\n",
    "- The Linear class can be used to make a prediction."
   ]
  },
  {
   "cell_type": "code",
   "execution_count": 7,
   "id": "4e25ef38",
   "metadata": {},
   "outputs": [],
   "source": [
    "from torch.nn import Linear"
   ]
  },
  {
   "cell_type": "code",
   "execution_count": 8,
   "id": "fa1b12e4",
   "metadata": {},
   "outputs": [
    {
     "data": {
      "text/plain": [
       "<torch._C.Generator at 0x1642f939f30>"
      ]
     },
     "execution_count": 8,
     "metadata": {},
     "output_type": "execute_result"
    }
   ],
   "source": [
    "torch.manual_seed(1)"
   ]
  },
  {
   "cell_type": "code",
   "execution_count": 9,
   "id": "cdbea0b2",
   "metadata": {},
   "outputs": [
    {
     "name": "stdout",
     "output_type": "stream",
     "text": [
      "Parameter w and b:  [Parameter containing:\n",
      "tensor([[0.5153]], requires_grad=True), Parameter containing:\n",
      "tensor([-0.4414], requires_grad=True)]\n"
     ]
    }
   ],
   "source": [
    "#Create Linear Regression model, and print out the parameter\n",
    "#in feature is the size of each input sample or the number of columns\n",
    "#out feature  is the size of each output sample\n",
    "lr=Linear(in_features=1,out_features=1,bias=True)\n",
    "print('Parameter w and b: ',list(lr.parameters()))"
   ]
  },
  {
   "cell_type": "markdown",
   "id": "3de762a6",
   "metadata": {},
   "source": [
    "A method  <code>state_dict()</code> Returns a Python dictionary object corresponding to the layers of each parameter  tensor. \n"
   ]
  },
  {
   "cell_type": "code",
   "execution_count": 10,
   "id": "57917c4e",
   "metadata": {},
   "outputs": [
    {
     "name": "stdout",
     "output_type": "stream",
     "text": [
      "Python dictionary:  OrderedDict([('weight', tensor([[0.5153]])), ('bias', tensor([-0.4414]))])\n",
      "keys:  odict_keys(['weight', 'bias'])\n",
      "values:  odict_values([tensor([[0.5153]]), tensor([-0.4414])])\n"
     ]
    }
   ],
   "source": [
    "print(\"Python dictionary: \",lr.state_dict())\n",
    "print(\"keys: \",lr.state_dict().keys())\n",
    "print(\"values: \",lr.state_dict().values())"
   ]
  },
  {
   "cell_type": "code",
   "execution_count": 11,
   "id": "06dd4e52",
   "metadata": {},
   "outputs": [
    {
     "name": "stdout",
     "output_type": "stream",
     "text": [
      "weight Parameter containing:\n",
      "tensor([[0.5153]], requires_grad=True)\n",
      "bias Parameter containing:\n",
      "tensor([-0.4414], requires_grad=True)\n"
     ]
    }
   ],
   "source": [
    "print('weight',lr.weight)\n",
    "print('bias',lr.bias)"
   ]
  },
  {
   "cell_type": "code",
   "execution_count": 12,
   "id": "74c4a0d0",
   "metadata": {},
   "outputs": [
    {
     "name": "stdout",
     "output_type": "stream",
     "text": [
      "The prediction: tensor([[0.0739]], grad_fn=<AddmmBackward0>)\n"
     ]
    }
   ],
   "source": [
    "#Make the prediction at x=[[1.0]]\n",
    "x=torch.tensor([[1.0]])\n",
    "yhat=lr(x)\n",
    "print('The prediction:',yhat)"
   ]
  },
  {
   "cell_type": "code",
   "execution_count": 13,
   "id": "19256757",
   "metadata": {},
   "outputs": [
    {
     "name": "stdout",
     "output_type": "stream",
     "text": [
      "The prediction:  tensor([[0.0739],\n",
      "        [0.5891]], grad_fn=<AddmmBackward0>)\n"
     ]
    }
   ],
   "source": [
    "x=torch.tensor([[1.0],[2.0]])\n",
    "yhat=lr(x)\n",
    "print('The prediction: ',yhat)"
   ]
  },
  {
   "cell_type": "markdown",
   "id": "bc4a9b99",
   "metadata": {},
   "source": [
    "## Build Custom Modules"
   ]
  },
  {
   "cell_type": "code",
   "execution_count": 14,
   "id": "bafc2808",
   "metadata": {},
   "outputs": [],
   "source": [
    "from torch import nn\n"
   ]
  },
  {
   "cell_type": "code",
   "execution_count": 15,
   "id": "adb9c1b4",
   "metadata": {},
   "outputs": [],
   "source": [
    "# Customize Linear Regression Class\n",
    "\n",
    "class LR(nn.Module):\n",
    "    \n",
    "    # Constructor\n",
    "    def __init__(self, input_size, output_size):\n",
    "        \n",
    "        # Inherit from parent\n",
    "        super(LR, self).__init__()\n",
    "        self.linear = nn.Linear(input_size, output_size)\n",
    "    \n",
    "    # Prediction function\n",
    "    def forward(self, x):\n",
    "        out = self.linear(x)\n",
    "        return out"
   ]
  },
  {
   "cell_type": "code",
   "execution_count": 16,
   "id": "789c33a3",
   "metadata": {},
   "outputs": [
    {
     "name": "stdout",
     "output_type": "stream",
     "text": [
      "The parameters:  [Parameter containing:\n",
      "tensor([[-0.1939]], requires_grad=True), Parameter containing:\n",
      "tensor([0.4694], requires_grad=True)]\n",
      "Linear model:  Linear(in_features=1, out_features=1, bias=True)\n"
     ]
    }
   ],
   "source": [
    "# Create the linear regression model. Print out the parameters.\n",
    "\n",
    "lr = LR(1, 1)\n",
    "print(\"The parameters: \", list(lr.parameters()))\n",
    "print(\"Linear model: \", lr.linear)"
   ]
  },
  {
   "cell_type": "code",
   "execution_count": 17,
   "id": "7ca60723",
   "metadata": {},
   "outputs": [
    {
     "name": "stdout",
     "output_type": "stream",
     "text": [
      "The prediction:  tensor([[0.2755]], grad_fn=<AddmmBackward0>)\n"
     ]
    }
   ],
   "source": [
    "# Try our customize linear regression model with single input\n",
    "\n",
    "x = torch.tensor([[1.0]])\n",
    "yhat = lr(x)\n",
    "print(\"The prediction: \", yhat)"
   ]
  },
  {
   "cell_type": "code",
   "execution_count": null,
   "id": "50a7bf4c",
   "metadata": {},
   "outputs": [],
   "source": []
  }
 ],
 "metadata": {
  "kernelspec": {
   "display_name": "Python 3 (ipykernel)",
   "language": "python",
   "name": "python3"
  },
  "language_info": {
   "codemirror_mode": {
    "name": "ipython",
    "version": 3
   },
   "file_extension": ".py",
   "mimetype": "text/x-python",
   "name": "python",
   "nbconvert_exporter": "python",
   "pygments_lexer": "ipython3",
   "version": "3.9.12"
  }
 },
 "nbformat": 4,
 "nbformat_minor": 5
}
